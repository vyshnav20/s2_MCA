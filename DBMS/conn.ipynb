{
 "cells": [
  {
   "cell_type": "code",
   "execution_count": 1,
   "metadata": {},
   "outputs": [],
   "source": [
    "import pymongo\n",
    "conn=pymongo.MongoClient(\"mongodb://localhost:27017/\")\n",
    "db=conn['college']\n",
    "col=db['studlist']"
   ]
  },
  {
   "cell_type": "code",
   "execution_count": 9,
   "metadata": {},
   "outputs": [
    {
     "data": {
      "text/plain": [
       "UpdateResult({'n': 1, 'nModified': 1, 'ok': 1.0, 'updatedExisting': True}, acknowledged=True)"
      ]
     },
     "execution_count": 9,
     "metadata": {},
     "output_type": "execute_result"
    }
   ],
   "source": [
    "db.studlist.update_one({\"_id\":1},{\"$inc\":{\"mark\":2}})"
   ]
  },
  {
   "cell_type": "code",
   "execution_count": 10,
   "metadata": {},
   "outputs": [
    {
     "name": "stdout",
     "output_type": "stream",
     "text": [
      "{'_id': 1, 'name': {'fname': 'Athira', 'lname': 'Krishnan'}, 'address': {'house_name': 'Ambadi', 'city': 'Kollam'}, 'gender': 'female', 'course': 'cs', 'mark': 82, 'grade': 'A', 'phone': {'type': 'mobile', 'no': 9896321450}}\n"
     ]
    }
   ],
   "source": [
    "x=db.studlist.find({\"_id\":1})\n",
    "for i in x:\n",
    "    print (i)"
   ]
  },
  {
   "cell_type": "code",
   "execution_count": 2,
   "metadata": {},
   "outputs": [
    {
     "ename": "BulkWriteError",
     "evalue": "batch op errors occurred, full error: {'writeErrors': [{'index': 0, 'code': 11000, 'errmsg': 'E11000 duplicate key error collection: college.studlist index: _id_ dup key: { _id: 1 }', 'keyPattern': {'_id': 1}, 'keyValue': {'_id': 1}, 'op': {'_id': 1, 'name': {'fname': 'Athira', 'lname': 'Krishnan'}, 'address': {'house_name': 'Ambadi', 'city': 'Kollam'}, 'gender': 'female', 'course': 'MCA', 'mark': 80, 'grade': 'A', 'phone': {'type': 'mobile', 'no': 9896321450}}}], 'writeConcernErrors': [], 'nInserted': 0, 'nUpserted': 0, 'nMatched': 0, 'nModified': 0, 'nRemoved': 0, 'upserted': []}",
     "output_type": "error",
     "traceback": [
      "\u001b[1;31m---------------------------------------------------------------------------\u001b[0m",
      "\u001b[1;31mBulkWriteError\u001b[0m                            Traceback (most recent call last)",
      "\u001b[1;32m~\\AppData\\Local\\Temp\\ipykernel_38432\\293471311.py\u001b[0m in \u001b[0;36m<module>\u001b[1;34m\u001b[0m\n\u001b[0;32m      2\u001b[0m \u001b[1;32mwith\u001b[0m \u001b[0mopen\u001b[0m\u001b[1;33m(\u001b[0m\u001b[1;34m\"data.json\"\u001b[0m\u001b[1;33m)\u001b[0m \u001b[1;32mas\u001b[0m \u001b[0mfile\u001b[0m\u001b[1;33m:\u001b[0m\u001b[1;33m\u001b[0m\u001b[1;33m\u001b[0m\u001b[0m\n\u001b[0;32m      3\u001b[0m     \u001b[0mdata\u001b[0m\u001b[1;33m=\u001b[0m\u001b[0mjson\u001b[0m\u001b[1;33m.\u001b[0m\u001b[0mload\u001b[0m\u001b[1;33m(\u001b[0m\u001b[0mfile\u001b[0m\u001b[1;33m)\u001b[0m\u001b[1;33m\u001b[0m\u001b[1;33m\u001b[0m\u001b[0m\n\u001b[1;32m----> 4\u001b[1;33m \u001b[0mdb\u001b[0m\u001b[1;33m.\u001b[0m\u001b[0mstudlist\u001b[0m\u001b[1;33m.\u001b[0m\u001b[0minsert_many\u001b[0m\u001b[1;33m(\u001b[0m\u001b[0mdata\u001b[0m\u001b[1;33m)\u001b[0m\u001b[1;33m\u001b[0m\u001b[1;33m\u001b[0m\u001b[0m\n\u001b[0m\u001b[0;32m      5\u001b[0m \u001b[0mdb\u001b[0m\u001b[1;33m.\u001b[0m\u001b[0minsert_o\u001b[0m\u001b[1;33m\u001b[0m\u001b[1;33m\u001b[0m\u001b[0m\n",
      "\u001b[1;32mc:\\Users\\HP\\anaconda3\\lib\\site-packages\\pymongo\\_csot.py\u001b[0m in \u001b[0;36mcsot_wrapper\u001b[1;34m(self, *args, **kwargs)\u001b[0m\n\u001b[0;32m    105\u001b[0m                 \u001b[1;32mwith\u001b[0m \u001b[0m_TimeoutContext\u001b[0m\u001b[1;33m(\u001b[0m\u001b[0mtimeout\u001b[0m\u001b[1;33m)\u001b[0m\u001b[1;33m:\u001b[0m\u001b[1;33m\u001b[0m\u001b[1;33m\u001b[0m\u001b[0m\n\u001b[0;32m    106\u001b[0m                     \u001b[1;32mreturn\u001b[0m \u001b[0mfunc\u001b[0m\u001b[1;33m(\u001b[0m\u001b[0mself\u001b[0m\u001b[1;33m,\u001b[0m \u001b[1;33m*\u001b[0m\u001b[0margs\u001b[0m\u001b[1;33m,\u001b[0m \u001b[1;33m**\u001b[0m\u001b[0mkwargs\u001b[0m\u001b[1;33m)\u001b[0m\u001b[1;33m\u001b[0m\u001b[1;33m\u001b[0m\u001b[0m\n\u001b[1;32m--> 107\u001b[1;33m         \u001b[1;32mreturn\u001b[0m \u001b[0mfunc\u001b[0m\u001b[1;33m(\u001b[0m\u001b[0mself\u001b[0m\u001b[1;33m,\u001b[0m \u001b[1;33m*\u001b[0m\u001b[0margs\u001b[0m\u001b[1;33m,\u001b[0m \u001b[1;33m**\u001b[0m\u001b[0mkwargs\u001b[0m\u001b[1;33m)\u001b[0m\u001b[1;33m\u001b[0m\u001b[1;33m\u001b[0m\u001b[0m\n\u001b[0m\u001b[0;32m    108\u001b[0m \u001b[1;33m\u001b[0m\u001b[0m\n\u001b[0;32m    109\u001b[0m     \u001b[1;32mreturn\u001b[0m \u001b[0mcast\u001b[0m\u001b[1;33m(\u001b[0m\u001b[0mF\u001b[0m\u001b[1;33m,\u001b[0m \u001b[0mcsot_wrapper\u001b[0m\u001b[1;33m)\u001b[0m\u001b[1;33m\u001b[0m\u001b[1;33m\u001b[0m\u001b[0m\n",
      "\u001b[1;32mc:\\Users\\HP\\anaconda3\\lib\\site-packages\\pymongo\\collection.py\u001b[0m in \u001b[0;36minsert_many\u001b[1;34m(self, documents, ordered, bypass_document_validation, session, comment)\u001b[0m\n\u001b[0;32m    753\u001b[0m         \u001b[0mblk\u001b[0m \u001b[1;33m=\u001b[0m \u001b[0m_Bulk\u001b[0m\u001b[1;33m(\u001b[0m\u001b[0mself\u001b[0m\u001b[1;33m,\u001b[0m \u001b[0mordered\u001b[0m\u001b[1;33m,\u001b[0m \u001b[0mbypass_document_validation\u001b[0m\u001b[1;33m,\u001b[0m \u001b[0mcomment\u001b[0m\u001b[1;33m=\u001b[0m\u001b[0mcomment\u001b[0m\u001b[1;33m)\u001b[0m\u001b[1;33m\u001b[0m\u001b[1;33m\u001b[0m\u001b[0m\n\u001b[0;32m    754\u001b[0m         \u001b[0mblk\u001b[0m\u001b[1;33m.\u001b[0m\u001b[0mops\u001b[0m \u001b[1;33m=\u001b[0m \u001b[0mlist\u001b[0m\u001b[1;33m(\u001b[0m\u001b[0mgen\u001b[0m\u001b[1;33m(\u001b[0m\u001b[1;33m)\u001b[0m\u001b[1;33m)\u001b[0m\u001b[1;33m\u001b[0m\u001b[1;33m\u001b[0m\u001b[0m\n\u001b[1;32m--> 755\u001b[1;33m         \u001b[0mblk\u001b[0m\u001b[1;33m.\u001b[0m\u001b[0mexecute\u001b[0m\u001b[1;33m(\u001b[0m\u001b[0mwrite_concern\u001b[0m\u001b[1;33m,\u001b[0m \u001b[0msession\u001b[0m\u001b[1;33m=\u001b[0m\u001b[0msession\u001b[0m\u001b[1;33m)\u001b[0m\u001b[1;33m\u001b[0m\u001b[1;33m\u001b[0m\u001b[0m\n\u001b[0m\u001b[0;32m    756\u001b[0m         \u001b[1;32mreturn\u001b[0m \u001b[0mInsertManyResult\u001b[0m\u001b[1;33m(\u001b[0m\u001b[0minserted_ids\u001b[0m\u001b[1;33m,\u001b[0m \u001b[0mwrite_concern\u001b[0m\u001b[1;33m.\u001b[0m\u001b[0macknowledged\u001b[0m\u001b[1;33m)\u001b[0m\u001b[1;33m\u001b[0m\u001b[1;33m\u001b[0m\u001b[0m\n\u001b[0;32m    757\u001b[0m \u001b[1;33m\u001b[0m\u001b[0m\n",
      "\u001b[1;32mc:\\Users\\HP\\anaconda3\\lib\\site-packages\\pymongo\\bulk.py\u001b[0m in \u001b[0;36mexecute\u001b[1;34m(self, write_concern, session)\u001b[0m\n\u001b[0;32m    574\u001b[0m                 \u001b[1;32mreturn\u001b[0m \u001b[1;32mNone\u001b[0m\u001b[1;33m\u001b[0m\u001b[1;33m\u001b[0m\u001b[0m\n\u001b[0;32m    575\u001b[0m         \u001b[1;32melse\u001b[0m\u001b[1;33m:\u001b[0m\u001b[1;33m\u001b[0m\u001b[1;33m\u001b[0m\u001b[0m\n\u001b[1;32m--> 576\u001b[1;33m             \u001b[1;32mreturn\u001b[0m \u001b[0mself\u001b[0m\u001b[1;33m.\u001b[0m\u001b[0mexecute_command\u001b[0m\u001b[1;33m(\u001b[0m\u001b[0mgenerator\u001b[0m\u001b[1;33m,\u001b[0m \u001b[0mwrite_concern\u001b[0m\u001b[1;33m,\u001b[0m \u001b[0msession\u001b[0m\u001b[1;33m)\u001b[0m\u001b[1;33m\u001b[0m\u001b[1;33m\u001b[0m\u001b[0m\n\u001b[0m",
      "\u001b[1;32mc:\\Users\\HP\\anaconda3\\lib\\site-packages\\pymongo\\bulk.py\u001b[0m in \u001b[0;36mexecute_command\u001b[1;34m(self, generator, write_concern, session)\u001b[0m\n\u001b[0;32m    444\u001b[0m \u001b[1;33m\u001b[0m\u001b[0m\n\u001b[0;32m    445\u001b[0m         \u001b[1;32mif\u001b[0m \u001b[0mfull_result\u001b[0m\u001b[1;33m[\u001b[0m\u001b[1;34m\"writeErrors\"\u001b[0m\u001b[1;33m]\u001b[0m \u001b[1;32mor\u001b[0m \u001b[0mfull_result\u001b[0m\u001b[1;33m[\u001b[0m\u001b[1;34m\"writeConcernErrors\"\u001b[0m\u001b[1;33m]\u001b[0m\u001b[1;33m:\u001b[0m\u001b[1;33m\u001b[0m\u001b[1;33m\u001b[0m\u001b[0m\n\u001b[1;32m--> 446\u001b[1;33m             \u001b[0m_raise_bulk_write_error\u001b[0m\u001b[1;33m(\u001b[0m\u001b[0mfull_result\u001b[0m\u001b[1;33m)\u001b[0m\u001b[1;33m\u001b[0m\u001b[1;33m\u001b[0m\u001b[0m\n\u001b[0m\u001b[0;32m    447\u001b[0m         \u001b[1;32mreturn\u001b[0m \u001b[0mfull_result\u001b[0m\u001b[1;33m\u001b[0m\u001b[1;33m\u001b[0m\u001b[0m\n\u001b[0;32m    448\u001b[0m \u001b[1;33m\u001b[0m\u001b[0m\n",
      "\u001b[1;32mc:\\Users\\HP\\anaconda3\\lib\\site-packages\\pymongo\\bulk.py\u001b[0m in \u001b[0;36m_raise_bulk_write_error\u001b[1;34m(full_result)\u001b[0m\n\u001b[0;32m    155\u001b[0m     \u001b[1;32mif\u001b[0m \u001b[0mfull_result\u001b[0m\u001b[1;33m[\u001b[0m\u001b[1;34m\"writeErrors\"\u001b[0m\u001b[1;33m]\u001b[0m\u001b[1;33m:\u001b[0m\u001b[1;33m\u001b[0m\u001b[1;33m\u001b[0m\u001b[0m\n\u001b[0;32m    156\u001b[0m         \u001b[0mfull_result\u001b[0m\u001b[1;33m[\u001b[0m\u001b[1;34m\"writeErrors\"\u001b[0m\u001b[1;33m]\u001b[0m\u001b[1;33m.\u001b[0m\u001b[0msort\u001b[0m\u001b[1;33m(\u001b[0m\u001b[0mkey\u001b[0m\u001b[1;33m=\u001b[0m\u001b[1;32mlambda\u001b[0m \u001b[0merror\u001b[0m\u001b[1;33m:\u001b[0m \u001b[0merror\u001b[0m\u001b[1;33m[\u001b[0m\u001b[1;34m\"index\"\u001b[0m\u001b[1;33m]\u001b[0m\u001b[1;33m)\u001b[0m\u001b[1;33m\u001b[0m\u001b[1;33m\u001b[0m\u001b[0m\n\u001b[1;32m--> 157\u001b[1;33m     \u001b[1;32mraise\u001b[0m \u001b[0mBulkWriteError\u001b[0m\u001b[1;33m(\u001b[0m\u001b[0mfull_result\u001b[0m\u001b[1;33m)\u001b[0m\u001b[1;33m\u001b[0m\u001b[1;33m\u001b[0m\u001b[0m\n\u001b[0m\u001b[0;32m    158\u001b[0m \u001b[1;33m\u001b[0m\u001b[0m\n\u001b[0;32m    159\u001b[0m \u001b[1;33m\u001b[0m\u001b[0m\n",
      "\u001b[1;31mBulkWriteError\u001b[0m: batch op errors occurred, full error: {'writeErrors': [{'index': 0, 'code': 11000, 'errmsg': 'E11000 duplicate key error collection: college.studlist index: _id_ dup key: { _id: 1 }', 'keyPattern': {'_id': 1}, 'keyValue': {'_id': 1}, 'op': {'_id': 1, 'name': {'fname': 'Athira', 'lname': 'Krishnan'}, 'address': {'house_name': 'Ambadi', 'city': 'Kollam'}, 'gender': 'female', 'course': 'MCA', 'mark': 80, 'grade': 'A', 'phone': {'type': 'mobile', 'no': 9896321450}}}], 'writeConcernErrors': [], 'nInserted': 0, 'nUpserted': 0, 'nMatched': 0, 'nModified': 0, 'nRemoved': 0, 'upserted': []}"
     ]
    }
   ],
   "source": [
    "import json\n",
    "with open(\"data.json\") as file:\n",
    "    data=json.load(file)\n",
    "db.studlist.insert_many(data)\n",
    "db.insert_o"
   ]
  },
  {
   "cell_type": "markdown",
   "metadata": {},
   "source": [
    "1) Display name and marks of all female student in MCA"
   ]
  },
  {
   "cell_type": "code",
   "execution_count": 7,
   "metadata": {},
   "outputs": [
    {
     "name": "stdout",
     "output_type": "stream",
     "text": [
      "\n",
      "Name: Athira Krishnan\n",
      "Mark:  80\n",
      "\n",
      "Name: Divya Vijayan\n",
      "Mark:  70\n",
      "\n",
      "Name: Renuka Vijayan\n",
      "Mark:  82\n",
      "\n",
      "Name: Remya V\n",
      "Mark:  85\n",
      "\n",
      "Name: Remya Sugunan\n",
      "Mark:  72\n",
      "\n",
      "Name: Vidhya Sugunan\n",
      "Mark:  79\n",
      "\n",
      "Name: Soorya S\n",
      "Mark:  79\n",
      "\n",
      "Name: Amritha S\n",
      "Mark:  99\n",
      "\n",
      "Name: Soorya P\n",
      "Mark:  74\n"
     ]
    }
   ],
   "source": [
    "x=db.studlist.find({\"gender\":\"female\",\"course\":\"MCA\"},{\"name\":1,\"mark\":1})\n",
    "for i in x:\n",
    "    print(\"\\nName: \"+i['name']['fname']+\" \"+i['name']['lname']+\"\\nMark: \",i['mark'])"
   ]
  },
  {
   "cell_type": "markdown",
   "metadata": {},
   "source": [
    "2. Display the details of student who secured highest mark in the course MCA"
   ]
  },
  {
   "cell_type": "code",
   "execution_count": 76,
   "metadata": {},
   "outputs": [
    {
     "name": "stdout",
     "output_type": "stream",
     "text": [
      "_id:  20\n",
      "name:  {'fname': 'Amritha', 'lname': 'S'}\n",
      "address:  {'house_name': 'Arya Bhavan', 'city': 'Varkala'}\n",
      "gender:  female\n",
      "course:  MCA\n",
      "mark:  99\n",
      "grade:  A+\n",
      "phone:  {'type': 'mobile', 'no': 9445365787}\n"
     ]
    }
   ],
   "source": [
    "x=db.studlist.find({\"course\":\"MCA\"}).sort(\"mark\",-1).limit(1)\n",
    "for i in x:\n",
    "    for j in i.keys():\n",
    "        print(j+\": \",i[j])"
   ]
  },
  {
   "cell_type": "markdown",
   "metadata": {},
   "source": [
    "3. Display all male students who secured A+ grade."
   ]
  },
  {
   "cell_type": "code",
   "execution_count": 79,
   "metadata": {},
   "outputs": [
    {
     "name": "stdout",
     "output_type": "stream",
     "text": [
      "Vimal Vinayan\n",
      "Vimal Bose\n",
      "Arun S\n"
     ]
    }
   ],
   "source": [
    "x=db.studlist.find({\"grade\":\"A+\",\"gender\":\"male\"})\n",
    "for i in x:\n",
    "    print(i['name']['fname']+\" \"+i['name']['lname'])"
   ]
  },
  {
   "cell_type": "markdown",
   "metadata": {},
   "source": [
    "4. Display the names of the top three students in Mechanical department."
   ]
  },
  {
   "cell_type": "code",
   "execution_count": 10,
   "metadata": {},
   "outputs": [
    {
     "name": "stdout",
     "output_type": "stream",
     "text": [
      "Kavya Mohan\n",
      "Vimal Vinayan\n",
      "Yadu Kannan\n"
     ]
    }
   ],
   "source": [
    "x=db.studlist.find({\"course\":\"Mechanical\"}).sort(\"mark\",-1).limit(3)\n",
    "for i in x:\n",
    "    print(i['name']['fname']+\" \"+i['name']['lname'])"
   ]
  },
  {
   "cell_type": "markdown",
   "metadata": {},
   "source": [
    "5. Display the details of female students who achived a mark more than 90"
   ]
  },
  {
   "cell_type": "code",
   "execution_count": 106,
   "metadata": {},
   "outputs": [
    {
     "name": "stdout",
     "output_type": "stream",
     "text": [
      "\n",
      "Name: Kavya Mohan\n",
      "Grade: A+\n",
      "Marks:  95 \n",
      "Contact no:  9448399780\n",
      "\n",
      "Name: Amritha S\n",
      "Grade: A+\n",
      "Marks:  99 \n",
      "Contact no:  9445365787\n"
     ]
    }
   ],
   "source": [
    "x=db.studlist.find({\"mark\":{\"$gt\":90},\"gender\":\"female\"})\n",
    "for i in x:\n",
    "    print(\"\\nName: \"+i['name']['fname']+\" \"+i['name']['lname']+\"\\nGrade: \"+i['grade']+\"\\nMarks: \",i['mark'],\"\\nContact no: \",i['phone']['no'])"
   ]
  },
  {
   "cell_type": "markdown",
   "metadata": {},
   "source": [
    "6. Display the details of student who secured mark, more than 80 but less than 90"
   ]
  },
  {
   "cell_type": "code",
   "execution_count": 107,
   "metadata": {},
   "outputs": [
    {
     "name": "stdout",
     "output_type": "stream",
     "text": [
      "\n",
      "Name: Vidhya S\n",
      "Grade: A\n",
      "Marks:  85 \n",
      "Contact no:  8146321420\n",
      "\n",
      "Name: Yadu Kannan\n",
      "Grade: A\n",
      "Marks:  85 \n",
      "Contact no:  9446321780\n",
      "\n",
      "Name: Renuka Vijayan\n",
      "Grade: A\n",
      "Marks:  82 \n",
      "Contact no:  04712547890\n",
      "\n",
      "Name: Remya V\n",
      "Grade: A\n",
      "Marks:  85 \n",
      "Contact no:  04712647890\n"
     ]
    }
   ],
   "source": [
    "x=db.studlist.find({\"mark\":{\"$gt\":80,\"$lt\":90}})\n",
    "for i in x:\n",
    "    print(\"\\nName: \"+i['name']['fname']+\" \"+i['name']['lname']+\"\\nGrade: \"+i['grade']+\"\\nMarks: \",i['mark'],\"\\nContact no: \",i['phone']['no'])"
   ]
  },
  {
   "cell_type": "markdown",
   "metadata": {},
   "source": [
    "7. Display the details of student whose name starts with V."
   ]
  },
  {
   "cell_type": "code",
   "execution_count": 112,
   "metadata": {},
   "outputs": [
    {
     "name": "stdout",
     "output_type": "stream",
     "text": [
      "\n",
      "Name: Varun Nair\n",
      "Course: MCA\n",
      "Grade: B+\n",
      "Marks:  70 \n",
      "Contact no:  04712662690\n",
      "\n",
      "Name: Vidhya S\n",
      "Course: Civil\n",
      "Grade: A\n",
      "Marks:  85 \n",
      "Contact no:  8146321420\n",
      "\n",
      "Name: Vivek Bose\n",
      "Course: MCA\n",
      "Grade: B\n",
      "Marks:  60 \n",
      "Contact no:  04842663890\n",
      "\n",
      "Name: Vimal Vinayan\n",
      "Course: Mechanical\n",
      "Grade: A+\n",
      "Marks:  90 \n",
      "Contact no:  8185399780\n",
      "\n",
      "Name: Vimal Bose\n",
      "Course: MCA\n",
      "Grade: A+\n",
      "Marks:  90 \n",
      "Contact no:  9485399780\n",
      "\n",
      "Name: Vinod Paniker\n",
      "Course: MCA\n",
      "Grade: B\n",
      "Marks:  70 \n",
      "Contact no:  9445399787\n",
      "\n",
      "Name: Vidhya Sugunan\n",
      "Course: MCA\n",
      "Grade: B+\n",
      "Marks:  79 \n",
      "Contact no:  04712647790\n"
     ]
    }
   ],
   "source": [
    "x=db.studlist.find({\"name.fname\":{\"$regex\":\"^V\"}})\n",
    "for i in x:\n",
    "    print(\"\\nName: \"+i['name']['fname']+\" \"+i['name']['lname']+\"\\nCourse: \"+i['course']+\"\\nGrade: \"+i['grade']+\"\\nMarks: \",i['mark'],\"\\nContact no: \",i['phone']['no'])"
   ]
  },
  {
   "cell_type": "markdown",
   "metadata": {},
   "source": [
    "8. Display all students from Kollam"
   ]
  },
  {
   "cell_type": "code",
   "execution_count": 113,
   "metadata": {},
   "outputs": [
    {
     "name": "stdout",
     "output_type": "stream",
     "text": [
      "Athira Krishnan\n",
      "Yadu Kannan\n",
      "Kavya Mohan\n",
      "Vimal Vinayan\n",
      "Jabin S\n",
      "Arya Satheesh\n"
     ]
    }
   ],
   "source": [
    "x=db.studlist.find({\"address.city\":\"Kollam\"})\n",
    "for i in x:\n",
    "    print(i['name']['fname']+\" \"+i['name']['lname'])"
   ]
  },
  {
   "cell_type": "markdown",
   "metadata": {},
   "source": [
    "9. Display all students who do not belong to neither Kollam nor Thiruvananthapuram"
   ]
  },
  {
   "cell_type": "code",
   "execution_count": 116,
   "metadata": {},
   "outputs": [
    {
     "name": "stdout",
     "output_type": "stream",
     "text": [
      "\n",
      "Name: Arya S\n",
      "City: Varkala\n",
      "\n",
      "Name: Vidhya S\n",
      "City: Kadakkavoor\n",
      "\n",
      "Name: Vivek Bose\n",
      "City: Ernakulam\n",
      "\n",
      "Name: Divya Vijayan\n",
      "City: Varkala\n",
      "\n",
      "Name: Vimal Bose\n",
      "City: Ernakulam\n",
      "\n",
      "Name: Vinod Paniker\n",
      "City: Ernakulam\n",
      "\n",
      "Name: Amritha S\n",
      "City: Varkala\n",
      "\n",
      "Name: Arun S\n",
      "City: Attingal\n",
      "\n",
      "Name: Abhilash S\n",
      "City: Attingal\n",
      "\n",
      "Name: Sree Raj\n",
      "City: Varkala\n"
     ]
    }
   ],
   "source": [
    "x=db.studlist.find({\"address.city\":{\"$nin\":['Kollam',\"Thiruvananthapuram\"]}})\n",
    "for i in x:\n",
    "    print(\"\\nName: \"+i['name']['fname']+\" \"+i['name']['lname']+\"\\nCity: \"+i[\"address\"][\"city\"])"
   ]
  },
  {
   "cell_type": "markdown",
   "metadata": {},
   "source": [
    "10. Display all students  belong to either Kollam or Thiruvananthapuram"
   ]
  },
  {
   "cell_type": "code",
   "execution_count": 11,
   "metadata": {},
   "outputs": [
    {
     "name": "stdout",
     "output_type": "stream",
     "text": [
      "\n",
      "Name: Athira Krishnan\n",
      "City: Kollam\n",
      "\n",
      "Name: Kavya Mohan\n",
      "City: Kollam\n",
      "\n",
      "Name: Renuka Vijayan\n",
      "City: Thiruvananthapuram\n",
      "\n",
      "Name: Remya V\n",
      "City: Thiruvananthapuram\n",
      "\n",
      "Name: Remya Sugunan\n",
      "City: Thiruvananthapuram\n",
      "\n",
      "Name: Vidhya Sugunan\n",
      "City: Thiruvananthapuram\n",
      "\n",
      "Name: Arya Satheesh\n",
      "City: Kollam\n",
      "\n",
      "Name: Soorya S\n",
      "City: Thiruvananthapuram\n",
      "\n",
      "Name: Soorya P\n",
      "City: Thiruvananthapuram\n"
     ]
    }
   ],
   "source": [
    "x=db.studlist.find({\"gender\":\"female\",\"address.city\":{\"$in\":['Kollam',\"Thiruvananthapuram\"]}})\n",
    "for i in x:\n",
    "    print(\"\\nName: \"+i['name']['fname']+\" \"+i['name']['lname']+\"\\nCity: \"+i[\"address\"][\"city\"])"
   ]
  },
  {
   "cell_type": "code",
   "execution_count": null,
   "metadata": {},
   "outputs": [],
   "source": []
  }
 ],
 "metadata": {
  "kernelspec": {
   "display_name": "Python 3 (ipykernel)",
   "language": "python",
   "name": "python3"
  },
  "language_info": {
   "codemirror_mode": {
    "name": "ipython",
    "version": 3
   },
   "file_extension": ".py",
   "mimetype": "text/x-python",
   "name": "python",
   "nbconvert_exporter": "python",
   "pygments_lexer": "ipython3",
   "version": "3.9.13"
  }
 },
 "nbformat": 4,
 "nbformat_minor": 2
}

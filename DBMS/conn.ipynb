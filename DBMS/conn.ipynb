{
 "cells": [
  {
   "cell_type": "code",
   "execution_count": 1,
   "metadata": {},
   "outputs": [],
   "source": [
    "import pymongo\n",
    "conn=pymongo.MongoClient(\"mongodb://localhost:27017/\")\n",
    "db=conn['college']\n",
    "col=db['studlist']"
   ]
  },
  {
   "cell_type": "code",
   "execution_count": 4,
   "metadata": {},
   "outputs": [
    {
     "data": {
      "text/plain": [
       "InsertManyResult([1, 2, 3, 4, 5, 6, 7, 8, 9, 10, 11, 12, 13, 14, 15, 16, 17, 18, 19, 20, 21, 22, 23, 24, 25], acknowledged=True)"
      ]
     },
     "execution_count": 4,
     "metadata": {},
     "output_type": "execute_result"
    }
   ],
   "source": [
    "import json\n",
    "with open(\"data.json\") as file:\n",
    "    data=json.load(file)\n",
    "\n",
    "db.studlist.insert_many(data)"
   ]
  },
  {
   "cell_type": "markdown",
   "metadata": {},
   "source": [
    "1) Display name and marks of all female student in MCA"
   ]
  },
  {
   "cell_type": "code",
   "execution_count": 105,
   "metadata": {},
   "outputs": [
    {
     "name": "stdout",
     "output_type": "stream",
     "text": [
      "\n",
      "Name: Athira Krishnan\n",
      "Mark:  80\n",
      "\n",
      "Name: Divya Vijayan\n",
      "Mark:  70\n",
      "\n",
      "Name: Renuka Vijayan\n",
      "Mark:  82\n",
      "\n",
      "Name: Remya V\n",
      "Mark:  85\n",
      "\n",
      "Name: Remya Sugunan\n",
      "Mark:  72\n",
      "\n",
      "Name: Vidhya Sugunan\n",
      "Mark:  79\n",
      "\n",
      "Name: Soorya S\n",
      "Mark:  79\n",
      "\n",
      "Name: Amritha S\n",
      "Mark:  99\n",
      "\n",
      "Name: Soorya P\n",
      "Mark:  74\n"
     ]
    }
   ],
   "source": [
    "x=db.studlist.find({\"gender\":\"female\",\"course\":\"MCA\"},{\"name\":1,\"mark\":1})\n",
    "for i in x:\n",
    "    print(\"\\nName: \"+i['name']['fname']+\" \"+i['name']['lname']+\"\\nMark: \",i['mark'])"
   ]
  },
  {
   "cell_type": "markdown",
   "metadata": {},
   "source": [
    "2. Display the details of student who secured highest mark in the course MCA"
   ]
  },
  {
   "cell_type": "code",
   "execution_count": 76,
   "metadata": {},
   "outputs": [
    {
     "name": "stdout",
     "output_type": "stream",
     "text": [
      "_id:  20\n",
      "name:  {'fname': 'Amritha', 'lname': 'S'}\n",
      "address:  {'house_name': 'Arya Bhavan', 'city': 'Varkala'}\n",
      "gender:  female\n",
      "course:  MCA\n",
      "mark:  99\n",
      "grade:  A+\n",
      "phone:  {'type': 'mobile', 'no': 9445365787}\n"
     ]
    }
   ],
   "source": [
    "x=db.studlist.find({\"course\":\"MCA\"}).sort(\"mark\",-1).limit(1)\n",
    "for i in x:\n",
    "    for j in i.keys():\n",
    "        print(j+\": \",i[j])"
   ]
  },
  {
   "cell_type": "markdown",
   "metadata": {},
   "source": [
    "3. Display all male students who secured A+ grade."
   ]
  },
  {
   "cell_type": "code",
   "execution_count": 79,
   "metadata": {},
   "outputs": [
    {
     "name": "stdout",
     "output_type": "stream",
     "text": [
      "Vimal Vinayan\n",
      "Vimal Bose\n",
      "Arun S\n"
     ]
    }
   ],
   "source": [
    "x=db.studlist.find({\"grade\":\"A+\",\"gender\":\"male\"})\n",
    "for i in x:\n",
    "    print(i['name']['fname']+\" \"+i['name']['lname'])"
   ]
  },
  {
   "cell_type": "markdown",
   "metadata": {},
   "source": [
    "4. Display the names of the top three students in Mechanical department."
   ]
  },
  {
   "cell_type": "code",
   "execution_count": 83,
   "metadata": {},
   "outputs": [
    {
     "name": "stdout",
     "output_type": "stream",
     "text": [
      "Kavya Mohan\n",
      "Vimal Vinayan\n",
      "Yadu Kannan\n"
     ]
    }
   ],
   "source": [
    "x=db.studlist.find({\"course\":\"Mechanical\"}).sort(\"mark\",-1).limit(3)\n",
    "for i in x:\n",
    "    print(i['name']['fname']+\" \"+i['name']['lname'])"
   ]
  },
  {
   "cell_type": "markdown",
   "metadata": {},
   "source": [
    "5. Display the details of female students who achived a mark more than 90"
   ]
  },
  {
   "cell_type": "code",
   "execution_count": 106,
   "metadata": {},
   "outputs": [
    {
     "name": "stdout",
     "output_type": "stream",
     "text": [
      "\n",
      "Name: Kavya Mohan\n",
      "Grade: A+\n",
      "Marks:  95 \n",
      "Contact no:  9448399780\n",
      "\n",
      "Name: Amritha S\n",
      "Grade: A+\n",
      "Marks:  99 \n",
      "Contact no:  9445365787\n"
     ]
    }
   ],
   "source": [
    "x=db.studlist.find({\"mark\":{\"$gt\":90},\"gender\":\"female\"})\n",
    "for i in x:\n",
    "    print(\"\\nName: \"+i['name']['fname']+\" \"+i['name']['lname']+\"\\nGrade: \"+i['grade']+\"\\nMarks: \",i['mark'],\"\\nContact no: \",i['phone']['no'])"
   ]
  },
  {
   "cell_type": "markdown",
   "metadata": {},
   "source": [
    "6. Display the details of student who secured mark, more than 80 but less than 90"
   ]
  },
  {
   "cell_type": "code",
   "execution_count": 107,
   "metadata": {},
   "outputs": [
    {
     "name": "stdout",
     "output_type": "stream",
     "text": [
      "\n",
      "Name: Vidhya S\n",
      "Grade: A\n",
      "Marks:  85 \n",
      "Contact no:  8146321420\n",
      "\n",
      "Name: Yadu Kannan\n",
      "Grade: A\n",
      "Marks:  85 \n",
      "Contact no:  9446321780\n",
      "\n",
      "Name: Renuka Vijayan\n",
      "Grade: A\n",
      "Marks:  82 \n",
      "Contact no:  04712547890\n",
      "\n",
      "Name: Remya V\n",
      "Grade: A\n",
      "Marks:  85 \n",
      "Contact no:  04712647890\n"
     ]
    }
   ],
   "source": [
    "x=db.studlist.find({\"mark\":{\"$gt\":80,\"$lt\":90}})\n",
    "for i in x:\n",
    "    print(\"\\nName: \"+i['name']['fname']+\" \"+i['name']['lname']+\"\\nGrade: \"+i['grade']+\"\\nMarks: \",i['mark'],\"\\nContact no: \",i['phone']['no'])"
   ]
  },
  {
   "cell_type": "markdown",
   "metadata": {},
   "source": [
    "7. Display the details of student whose name starts with V."
   ]
  },
  {
   "cell_type": "code",
   "execution_count": 112,
   "metadata": {},
   "outputs": [
    {
     "name": "stdout",
     "output_type": "stream",
     "text": [
      "\n",
      "Name: Varun Nair\n",
      "Course: MCA\n",
      "Grade: B+\n",
      "Marks:  70 \n",
      "Contact no:  04712662690\n",
      "\n",
      "Name: Vidhya S\n",
      "Course: Civil\n",
      "Grade: A\n",
      "Marks:  85 \n",
      "Contact no:  8146321420\n",
      "\n",
      "Name: Vivek Bose\n",
      "Course: MCA\n",
      "Grade: B\n",
      "Marks:  60 \n",
      "Contact no:  04842663890\n",
      "\n",
      "Name: Vimal Vinayan\n",
      "Course: Mechanical\n",
      "Grade: A+\n",
      "Marks:  90 \n",
      "Contact no:  8185399780\n",
      "\n",
      "Name: Vimal Bose\n",
      "Course: MCA\n",
      "Grade: A+\n",
      "Marks:  90 \n",
      "Contact no:  9485399780\n",
      "\n",
      "Name: Vinod Paniker\n",
      "Course: MCA\n",
      "Grade: B\n",
      "Marks:  70 \n",
      "Contact no:  9445399787\n",
      "\n",
      "Name: Vidhya Sugunan\n",
      "Course: MCA\n",
      "Grade: B+\n",
      "Marks:  79 \n",
      "Contact no:  04712647790\n"
     ]
    }
   ],
   "source": [
    "x=db.studlist.find({\"name.fname\":{\"$regex\":\"^V\"}})\n",
    "for i in x:\n",
    "    print(\"\\nName: \"+i['name']['fname']+\" \"+i['name']['lname']+\"\\nCourse: \"+i['course']+\"\\nGrade: \"+i['grade']+\"\\nMarks: \",i['mark'],\"\\nContact no: \",i['phone']['no'])"
   ]
  },
  {
   "cell_type": "markdown",
   "metadata": {},
   "source": [
    "8. Display all students from Kollam"
   ]
  },
  {
   "cell_type": "code",
   "execution_count": 113,
   "metadata": {},
   "outputs": [
    {
     "name": "stdout",
     "output_type": "stream",
     "text": [
      "Athira Krishnan\n",
      "Yadu Kannan\n",
      "Kavya Mohan\n",
      "Vimal Vinayan\n",
      "Jabin S\n",
      "Arya Satheesh\n"
     ]
    }
   ],
   "source": [
    "x=db.studlist.find({\"address.city\":\"Kollam\"})\n",
    "for i in x:\n",
    "    print(i['name']['fname']+\" \"+i['name']['lname'])"
   ]
  },
  {
   "cell_type": "markdown",
   "metadata": {},
   "source": [
    "9. Display all students who do not belong to neither Kollam nor Thiruvananthapuram"
   ]
  },
  {
   "cell_type": "code",
   "execution_count": 116,
   "metadata": {},
   "outputs": [
    {
     "name": "stdout",
     "output_type": "stream",
     "text": [
      "\n",
      "Name: Arya S\n",
      "City: Varkala\n",
      "\n",
      "Name: Vidhya S\n",
      "City: Kadakkavoor\n",
      "\n",
      "Name: Vivek Bose\n",
      "City: Ernakulam\n",
      "\n",
      "Name: Divya Vijayan\n",
      "City: Varkala\n",
      "\n",
      "Name: Vimal Bose\n",
      "City: Ernakulam\n",
      "\n",
      "Name: Vinod Paniker\n",
      "City: Ernakulam\n",
      "\n",
      "Name: Amritha S\n",
      "City: Varkala\n",
      "\n",
      "Name: Arun S\n",
      "City: Attingal\n",
      "\n",
      "Name: Abhilash S\n",
      "City: Attingal\n",
      "\n",
      "Name: Sree Raj\n",
      "City: Varkala\n"
     ]
    }
   ],
   "source": [
    "x=db.studlist.find({\"address.city\":{\"$nin\":['Kollam',\"Thiruvananthapuram\"]}})\n",
    "for i in x:\n",
    "    print(\"\\nName: \"+i['name']['fname']+\" \"+i['name']['lname']+\"\\nCity: \"+i[\"address\"][\"city\"])"
   ]
  },
  {
   "cell_type": "markdown",
   "metadata": {},
   "source": [
    "10. Display all students  belong to either Kollam or Thiruvananthapuram"
   ]
  },
  {
   "cell_type": "code",
   "execution_count": 117,
   "metadata": {},
   "outputs": [
    {
     "name": "stdout",
     "output_type": "stream",
     "text": [
      "\n",
      "Name: Athira Krishnan\n",
      "City: Kollam\n",
      "\n",
      "Name: Varun Nair\n",
      "City: Thiruvananthapuram\n",
      "\n",
      "Name: Karthik MS\n",
      "City: Thiruvananthapuram\n",
      "\n",
      "Name: Yadu Kannan\n",
      "City: Kollam\n",
      "\n",
      "Name: Kavya Mohan\n",
      "City: Kollam\n",
      "\n",
      "Name: Vimal Vinayan\n",
      "City: Kollam\n",
      "\n",
      "Name: Renuka Vijayan\n",
      "City: Thiruvananthapuram\n",
      "\n",
      "Name: Remya V\n",
      "City: Thiruvananthapuram\n",
      "\n",
      "Name: Remya Sugunan\n",
      "City: Thiruvananthapuram\n",
      "\n",
      "Name: Jabin S\n",
      "City: Kollam\n",
      "\n",
      "Name: Vidhya Sugunan\n",
      "City: Thiruvananthapuram\n",
      "\n",
      "Name: Arya Satheesh\n",
      "City: Kollam\n",
      "\n",
      "Name: Soorya S\n",
      "City: Thiruvananthapuram\n",
      "\n",
      "Name: Soorya P\n",
      "City: Thiruvananthapuram\n",
      "\n",
      "Name: Sayooj Kiran\n",
      "City: Thiruvananthapuram\n"
     ]
    }
   ],
   "source": [
    "x=db.studlist.find({\"address.city\":{\"$in\":['Kollam',\"Thiruvananthapuram\"]}})\n",
    "for i in x:\n",
    "    print(\"\\nName: \"+i['name']['fname']+\" \"+i['name']['lname']+\"\\nCity: \"+i[\"address\"][\"city\"])"
   ]
  },
  {
   "cell_type": "code",
   "execution_count": null,
   "metadata": {},
   "outputs": [],
   "source": []
  }
 ],
 "metadata": {
  "kernelspec": {
   "display_name": "Python 3 (ipykernel)",
   "language": "python",
   "name": "python3"
  },
  "language_info": {
   "codemirror_mode": {
    "name": "ipython",
    "version": 3
   },
   "file_extension": ".py",
   "mimetype": "text/x-python",
   "name": "python",
   "nbconvert_exporter": "python",
   "pygments_lexer": "ipython3",
   "version": "3.9.13"
  }
 },
 "nbformat": 4,
 "nbformat_minor": 2
}
